{
 "cells": [
  {
   "cell_type": "code",
   "execution_count": 1,
   "id": "cd8fb47f",
   "metadata": {},
   "outputs": [],
   "source": [
    "import pandas as pd\n",
    "import numpy as np"
   ]
  },
  {
   "cell_type": "code",
   "execution_count": 2,
   "id": "cdf14205",
   "metadata": {},
   "outputs": [],
   "source": [
    "data = np.array([[0,96],\n",
    "                [1,85],\n",
    "                [2,82],\n",
    "                [3,74],\n",
    "                [3,95],\n",
    "                [5,68],\n",
    "                [5,76],\n",
    "                [6,58],\n",
    "                [7,65],\n",
    "                [7,75],\n",
    "                [10,50],\n",
    "                [5,84]]) \n",
    "df = pd.DataFrame(data, columns=['Hours','Marks'])\n",
    "x=df['Hours']\n",
    "y=df['Marks']"
   ]
  },
  {
   "cell_type": "code",
   "execution_count": 3,
   "id": "a8309cc0",
   "metadata": {},
   "outputs": [],
   "source": [
    "n = len(x)\n",
    "\n",
    "sum_x = np.sum(x)\n",
    "sum_y = np.sum(y)\n",
    "sum_xy = np.sum(x * y)\n",
    "sum_x2 = np.sum(x * x)\n",
    "m = (n * sum_xy - sum_x * sum_y) / (n * sum_x2 - sum_x**2) \n",
    "c = (sum_y - m * sum_x) / n\n"
   ]
  },
  {
   "cell_type": "code",
   "execution_count": 4,
   "id": "c8757832",
   "metadata": {},
   "outputs": [
    {
     "name": "stdout",
     "output_type": "stream",
     "text": [
      "Slope (m): -4.067415730337078\n",
      "Intercept (c): 93.97003745318352\n"
     ]
    }
   ],
   "source": [
    "\n",
    "print(f\"Slope (m): {m}\")\n",
    "print(f\"Intercept (c): {c}\")"
   ]
  },
  {
   "cell_type": "code",
   "execution_count": null,
   "id": "a9ed0ddf",
   "metadata": {},
   "outputs": [],
   "source": [
    "pred_hour=int(input(\"Enter the no of hours you want to predict (0-10) \"))\n",
    "if (pred_hour >=0 and pred_hour<=10):\n",
    "    def predict(hour):\n",
    "        return c + m * hour\n",
    "else:\n",
    "    print(\"Enter values between 0-10 hours only\")\n",
    "print(f\"Predicted Marks for {pred_hour} hours study:\", predict(pred_hour))"
   ]
  }
 ],
 "metadata": {
  "kernelspec": {
   "display_name": "Python 3",
   "language": "python",
   "name": "python3"
  },
  "language_info": {
   "codemirror_mode": {
    "name": "ipython",
    "version": 3
   },
   "file_extension": ".py",
   "mimetype": "text/x-python",
   "name": "python",
   "nbconvert_exporter": "python",
   "pygments_lexer": "ipython3",
   "version": "3.12.8"
  }
 },
 "nbformat": 4,
 "nbformat_minor": 5
}
